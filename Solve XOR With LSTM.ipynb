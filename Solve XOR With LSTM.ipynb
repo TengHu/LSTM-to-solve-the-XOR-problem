{
 "cells": [
  {
   "cell_type": "markdown",
   "metadata": {},
   "source": [
    "# OpenAI - Request for Research 2.0 (https://blog.openai.com/requests-for-research-2/)\n",
    "\n",
    "## Warmup\n",
    "\n",
    "   Train an LSTM to solve the XOR problem: that is, given a sequence of bits, determine its parity. The LSTM should consume the sequence, one bit at a time, and then output the correct answer at the sequence’s end. Test the two approaches below:\n",
    "\n",
    " *  Generate a dataset of random 100,000 binary strings of length 50. Train the LSTM; what performance do you get?\n",
    "\n",
    " *  Generate a dataset of random 100,000 binary strings, where the length of each string is independently and randomly chosen between 1 and 50. Train the LSTM. Does it succeed? What explains the difference?\n"
   ]
  },
  {
   "cell_type": "code",
   "execution_count": 1,
   "metadata": {},
   "outputs": [
    {
     "data": {
      "text/plain": [
       "<torch._C.Generator at 0x1195773f0>"
      ]
     },
     "execution_count": 1,
     "metadata": {},
     "output_type": "execute_result"
    }
   ],
   "source": [
    "import torch\n",
    "import torch.nn as nn\n",
    "import torch.nn.functional as F\n",
    "import torch.optim as optim\n",
    "import numpy as np\n",
    "import inspect\n",
    "import torch.utils.data as data_utils\n",
    "import pdb\n",
    "import random\n",
    "import utils\n",
    "from torch.autograd import Variable\n",
    "import matplotlib.pyplot as plt\n",
    "import torch.nn.utils.rnn as rnn_utils\n",
    "torch.manual_seed(0)  "
   ]
  },
  {
   "cell_type": "code",
   "execution_count": null,
   "metadata": {},
   "outputs": [],
   "source": []
  },
  {
   "cell_type": "markdown",
   "metadata": {},
   "source": [
    "## Generating Bits String"
   ]
  },
  {
   "cell_type": "code",
   "execution_count": 18,
   "metadata": {},
   "outputs": [
    {
     "data": {
      "text/plain": [
       "'\\ni, t = generate_binary(length=4, num=20,variable=True)\\nprint (rnn_utils.pad_packed_sequence(i, batch_first=True)[0])\\nprint (rnn_utils.pad_packed_sequence(i, batch_first=True)[1])\\nprint (rnn_utils.pad_packed_sequence(t, batch_first=True)[0])\\nprint (rnn_utils.pad_packed_sequence(t, batch_first=True)[1])\\n'"
      ]
     },
     "execution_count": 18,
     "metadata": {},
     "output_type": "execute_result"
    }
   ],
   "source": [
    "def generate_binary(length=1, num=1, variable=False):\n",
    "    inputs = []\n",
    "    targets = []\n",
    "    for i in range(0, num):\n",
    "        sum = 0\n",
    "        input = []\n",
    "        target = []\n",
    "        for j in range(0, length):\n",
    "            temp = random.randint(0, 1)\n",
    "            sum += temp\n",
    "            current_input = np.zeros(2)\n",
    "            current_input[temp] = 1\n",
    "            input.append(current_input)\n",
    "            target.append(sum % 2)\n",
    "        inputs.append(input)\n",
    "        targets.append(target)\n",
    "    inputs = torch.Tensor(inputs)\n",
    "    targets = torch.Tensor(targets).unsqueeze(2)\n",
    "    return inputs, targets\n",
    "    \n",
    "    \n",
    "def collate_generate(batchsize=2, is_variable_length=False):\n",
    "    def pad_collate(batch):\n",
    "        data = [item[0] for item in batch]\n",
    "        target = [item[1] for item in batch]\n",
    "        length = len(data[0])\n",
    "        \n",
    "        lengths_vector = [random.randint(1,length) if is_variable_length else length for i in range(0, batchsize)]\n",
    "        lengths_vector.sort(reverse=True)\n",
    "        \n",
    "        data = rnn_utils.pack_padded_sequence(torch.stack(data), lengths_vector, batch_first=True)\n",
    "        target = rnn_utils.pack_padded_sequence(torch.stack(target), lengths_vector, batch_first=True)\n",
    "        return [data, target]\n",
    "    return pad_collate\n",
    "\n",
    "'''\n",
    "i, t = generate_binary(length=4, num=20,variable=True)\n",
    "print (rnn_utils.pad_packed_sequence(i, batch_first=True)[0])\n",
    "print (rnn_utils.pad_packed_sequence(i, batch_first=True)[1])\n",
    "print (rnn_utils.pad_packed_sequence(t, batch_first=True)[0])\n",
    "print (rnn_utils.pad_packed_sequence(t, batch_first=True)[1])\n",
    "'''\n"
   ]
  },
  {
   "cell_type": "code",
   "execution_count": null,
   "metadata": {},
   "outputs": [],
   "source": []
  },
  {
   "cell_type": "code",
   "execution_count": null,
   "metadata": {},
   "outputs": [],
   "source": []
  },
  {
   "cell_type": "markdown",
   "metadata": {},
   "source": [
    "# Single Layer LSTM Model"
   ]
  },
  {
   "cell_type": "code",
   "execution_count": 3,
   "metadata": {},
   "outputs": [],
   "source": [
    "class LSTMModel(nn.Module):\n",
    "    def __init__(self, feature_size, hidden_size):\n",
    "        super(LSTMModel, self).__init__()\n",
    "        self.feature_size = feature_size\n",
    "        self.hidden_size = hidden_size\n",
    "        \n",
    "        self.rnn = nn.LSTM(\n",
    "            input_size=feature_size,\n",
    "            hidden_size=hidden_size,\n",
    "            num_layers=1,\n",
    "            batch_first=True)\n",
    "        self.h2o = nn.Linear(hidden_size, 1)\n",
    "        self.sig = nn.Sigmoid()\n",
    "\n",
    "    def unpacked(self, hidden):\n",
    "        if isinstance(hidden, torch.nn.utils.rnn.PackedSequence):\n",
    "            hidden, lengths_vector = rnn_utils.pad_packed_sequence(hidden, batch_first=True)\n",
    "        return hidden\n",
    "        \n",
    "    def forward(self, inputs):\n",
    "        h, h_and_c = self.rnn(inputs)\n",
    "        h = self.unpacked(h)\n",
    "        outputs = self.h2o(h)\n",
    "        return outputs, self.sig(outputs)\n",
    "    \n",
    "    \n",
    "    def forward(self, inputs, hiddens):\n",
    "        h, h_and_c = self.rnn(inputs, hiddens)\n",
    "        h = self.unpacked(h)\n",
    "        outputs = self.h2o(h)\n",
    "        return outputs, self.sig(outputs)\n",
    "    \n",
    "\n",
    "    def initRandomHidden(self, batch_size=1):\n",
    "        h = torch.zeros(1, batch_size, self.hidden_size)\n",
    "        c = torch.zeros(1, batch_size, self.hidden_size)\n",
    "        return [h, c]"
   ]
  },
  {
   "cell_type": "markdown",
   "metadata": {},
   "source": [
    "# Training with fixed length 50\n",
    " *  Generate a dataset of random 100,000 binary strings of length 50. Train the LSTM; what performance do you get?\n",
    "\n",
    "\n",
    "* batch size 20\n",
    "* Vanilla SGD with learning rate 1\n",
    "* Cross Entropy Loss\n",
    "* Achieve 100 % with 2 hidden units after ~2 epochs"
   ]
  },
  {
   "cell_type": "code",
   "execution_count": 23,
   "metadata": {
    "scrolled": false
   },
   "outputs": [
    {
     "name": "stdout",
     "output_type": "stream",
     "text": [
      "learning rate 1, batch size 20\n",
      "epoch 1, batch 300, loss 0.6936256885528564\n",
      "epoch 1, batch 600, loss 0.6932411789894104\n",
      "epoch 1, batch 900, loss 0.693221390247345\n",
      "epoch 1, batch 1200, loss 0.693185031414032\n",
      "epoch 1, batch 1500, loss 0.6930814981460571\n",
      "epoch 1, batch 1800, loss 0.6930596828460693\n",
      "epoch 1, batch 2100, loss 0.6929906010627747\n",
      "epoch 1, batch 2400, loss 0.6930245161056519\n",
      "epoch 1, batch 2700, loss 0.6930193305015564\n",
      "epoch 1, batch 3000, loss 0.6930099725723267\n",
      "epoch 1, batch 3300, loss 0.6929218769073486\n",
      "epoch 1, batch 3600, loss 0.6928685307502747\n",
      "epoch 1, batch 3900, loss 0.6927436590194702\n",
      "epoch 1, batch 4200, loss 0.6927247047424316\n",
      "epoch 1, batch 4500, loss 0.6926406025886536\n",
      "epoch 1, batch 4800, loss 0.6924952864646912\n",
      "Accuracy: \n",
      "57.99999999999999 %\n",
      "epoch 2, batch 300, loss 0.6923717260360718\n",
      "epoch 2, batch 600, loss 0.69215989112854\n",
      "epoch 2, batch 900, loss 0.6919844746589661\n",
      "epoch 2, batch 1200, loss 0.6917996406555176\n",
      "epoch 2, batch 1500, loss 0.6915663480758667\n",
      "epoch 2, batch 1800, loss 0.6913398504257202\n",
      "epoch 2, batch 2100, loss 0.6911237835884094\n",
      "epoch 2, batch 2400, loss 0.6907633543014526\n",
      "epoch 2, batch 2700, loss 0.6905525922775269\n",
      "epoch 2, batch 3000, loss 0.6901968121528625\n",
      "epoch 2, batch 3300, loss 0.6898555755615234\n",
      "epoch 2, batch 3600, loss 0.6895565986633301\n",
      "epoch 2, batch 3900, loss 0.6892204880714417\n",
      "epoch 2, batch 4200, loss 0.6889378428459167\n",
      "epoch 2, batch 4500, loss 0.6886681318283081\n",
      "epoch 2, batch 4800, loss 0.6883864998817444\n",
      "Accuracy: \n",
      "48.0 %\n",
      "epoch 3, batch 300, loss 0.6879487633705139\n",
      "epoch 3, batch 600, loss 0.6876333355903625\n",
      "epoch 3, batch 900, loss 0.6874355673789978\n",
      "epoch 3, batch 1200, loss 0.6870281100273132\n",
      "epoch 3, batch 1500, loss 0.6867280602455139\n",
      "epoch 3, batch 1800, loss 0.6863637566566467\n",
      "epoch 3, batch 2100, loss 0.6861022710800171\n",
      "epoch 3, batch 2400, loss 0.6857252717018127\n",
      "epoch 3, batch 2700, loss 0.6855134963989258\n",
      "epoch 3, batch 3000, loss 0.6852520704269409\n",
      "epoch 3, batch 3300, loss 0.6849768161773682\n",
      "epoch 3, batch 3600, loss 0.6847855448722839\n",
      "epoch 3, batch 3900, loss 0.6846185922622681\n",
      "epoch 3, batch 4200, loss 0.6842959523200989\n",
      "epoch 3, batch 4500, loss 0.6840751767158508\n",
      "epoch 3, batch 4800, loss 0.6836704611778259\n",
      "Accuracy: \n",
      "43.0 %\n",
      "epoch 4, batch 300, loss 0.6829895377159119\n",
      "epoch 4, batch 600, loss 0.6823999285697937\n",
      "epoch 4, batch 900, loss 0.6811960935592651\n",
      "epoch 4, batch 1200, loss 0.6791784167289734\n",
      "epoch 4, batch 1500, loss 0.6765321493148804\n",
      "epoch 4, batch 1800, loss 0.6733999848365784\n",
      "epoch 4, batch 2100, loss 0.6683382391929626\n",
      "epoch 4, batch 2400, loss 0.6670224666595459\n",
      "epoch 4, batch 2700, loss 0.6919662952423096\n",
      "epoch 4, batch 3000, loss 0.6827704310417175\n",
      "epoch 4, batch 3300, loss 0.6814088225364685\n",
      "epoch 4, batch 3600, loss 0.6798439621925354\n",
      "epoch 4, batch 3900, loss 0.5446643829345703\n",
      "epoch 4, batch 4200, loss 0.0459655337035656\n",
      "epoch 4, batch 4500, loss 0.01710411347448826\n",
      "epoch 4, batch 4800, loss 0.01050970796495676\n",
      "Accuracy: \n",
      "100.0 %\n",
      "epoch 5, batch 300, loss 0.0063540260307490826\n",
      "Accuracy: \n",
      "100.0 %\n",
      "epoch 6, batch 300, loss 0.005124911665916443\n",
      "Accuracy: \n",
      "100.0 %\n",
      "#################################################################################################### \n",
      "TestSet Accuracy:\n",
      "100.0 %\n"
     ]
    }
   ],
   "source": [
    "print_every = 300\n",
    "epochs = 6\n",
    "num_observation = 100000\n",
    "num_test_observation = 10000\n",
    "\n",
    "length = 50\n",
    "hidden_size = 2\n",
    "batch_size = 20\n",
    "\n",
    "model = LSTMModel(2, hidden_size)\n",
    "criterion = nn.BCEWithLogitsLoss()\n",
    "\n",
    "def evaluate(model, num_samples=num_test_observation, is_variable_length=False):\n",
    "    accuracy = 0\n",
    "    inputs, targets = generate_binary(length=length, num=num_samples)\n",
    "    dataset = torch.utils.data.TensorDataset(inputs, targets)\n",
    "    \n",
    "    \n",
    "    dataloader = torch.utils.data.DataLoader(\n",
    "        dataset,\n",
    "        batch_size=batch_size,\n",
    "        shuffle=True,\n",
    "        num_workers=1,\n",
    "        drop_last=True,\n",
    "        collate_fn=collate_generate(batchsize=batch_size, is_variable_length=is_variable_length),\n",
    "        pin_memory=True)\n",
    "\n",
    "    \n",
    "    for batch_idx, data in enumerate(dataloader, 1):\n",
    "        hiddens = model.initRandomHidden(batch_size=batch_size)\n",
    "        input, targets = data\n",
    "        _, predicts = model(input, hiddens)\n",
    "\n",
    "        # unpack targets PackedSequence to get  variable length vector\n",
    "        targets, lengths_vector = rnn_utils.pad_packed_sequence(targets, batch_first=True)\n",
    "    \n",
    "        # we only care the final output of each string which is at index i-1 for i in lengths_vector\n",
    "        for idx_in_batch, idx_in_sequence in enumerate(lengths_vector.tolist(), 0):\n",
    "            #pdb.set_trace()\n",
    "            accuracy += ((predicts[idx_in_batch, idx_in_sequence-1] > 0.5).numpy() ==  targets[idx_in_batch, idx_in_sequence-1].numpy())\n",
    "        \n",
    "    print (accuracy[0] / num_samples * 100, \"%\")\n",
    "\n",
    "'''\n",
    "Training\n",
    "'''\n",
    "inputs, targets = generate_binary(length=length, num=num_observation)\n",
    "dataset = torch.utils.data.TensorDataset(inputs, targets)\n",
    "\n",
    "\n",
    "for i in range(0, 1):\n",
    "    lr = 1\n",
    "    losses = []\n",
    "    dataloader = torch.utils.data.DataLoader(\n",
    "                    dataset,\n",
    "                    batch_size=batch_size,\n",
    "                    shuffle=True,\n",
    "                    num_workers=1,\n",
    "                    drop_last=True,\n",
    "                    collate_fn=collate_generate(batchsize=batch_size,  is_variable_length=False),\n",
    "                    pin_memory=True)\n",
    "\n",
    "    print (\"learning rate {}, batch size {}\".format(lr, batch_size))\n",
    "    optimizer = torch.optim.SGD(model.parameters(), lr=lr)\n",
    "    \n",
    "    for i in range(1, epochs+1):    \n",
    "        running_loss = 0\n",
    "        for batch_idx, data in enumerate(dataloader, 1):\n",
    "            hiddens = model.initRandomHidden(batch_size=batch_size)\n",
    "            \n",
    "            optimizer.zero_grad()\n",
    "            input, targets = data\n",
    "            \n",
    "            outputs, _ = model(input, hiddens)\n",
    "            \n",
    "            # unpack targets PackedSequence to get  variable length vector\n",
    "            _, lengths_vector = rnn_utils.pad_packed_sequence(targets, batch_first=True)\n",
    "    \n",
    "            # use pack_padded_sequence function to flatten output according to variable length vector\n",
    "            outputs = rnn_utils.pack_padded_sequence(outputs, lengths_vector, batch_first=True)\n",
    "    \n",
    "            \n",
    "            loss = criterion(outputs.data, targets.data)\n",
    "            losses.append(loss)\n",
    "            running_loss += loss\n",
    "            \n",
    "            loss.backward()\n",
    "            optimizer.step()\n",
    "            \n",
    "            \n",
    "            if batch_idx % print_every == 0:\n",
    "                print (\"epoch {}, batch {}, loss {}\".format(i, batch_idx, running_loss / print_every))\n",
    "                if running_loss / print_every < 1e-2:\n",
    "                    break\n",
    "                running_loss = 0\n",
    "        print (\"Accuracy: \")\n",
    "        evaluate(model, num_samples=100, is_variable_length=True)\n",
    "        \n",
    "print ('#' * 100, '\\nTestSet Accuracy:')\n",
    "evaluate(model, num_samples=num_test_observation, is_variable_length=True)"
   ]
  },
  {
   "cell_type": "code",
   "execution_count": 20,
   "metadata": {},
   "outputs": [],
   "source": [
    "train_fixed_test_fixed_loss = losses"
   ]
  },
  {
   "cell_type": "code",
   "execution_count": 24,
   "metadata": {},
   "outputs": [
    {
     "data": {
      "text/plain": [
       "[<matplotlib.lines.Line2D at 0x126e4d748>]"
      ]
     },
     "execution_count": 24,
     "metadata": {},
     "output_type": "execute_result"
    },
    {
     "data": {
      "image/png": "[encoded data removed]",
      "text/plain": [
       "<matplotlib.figure.Figure at 0x12b692630>"
      ]
     },
     "metadata": {},
     "output_type": "display_data"
    }
   ],
   "source": [
    "import seaborn as sns\n",
    "sns.set()\n",
    "from matplotlib.pyplot import figure\n",
    "\n",
    "figure(num=None, figsize=(10, 6), dpi=80, facecolor='w', edgecolor='k')\n",
    "plt.plot(losses)"
   ]
  },
  {
   "cell_type": "markdown",
   "metadata": {},
   "source": [
    "# Training with variable length in [1,50]\n",
    "\n",
    "* batch size 20\n",
    "* Vanilla SGD with learning rate 1\n",
    "* Binary Cross Entropy Loss"
   ]
  },
  {
   "cell_type": "code",
   "execution_count": null,
   "metadata": {},
   "outputs": [],
   "source": []
  },
  {
   "cell_type": "code",
   "execution_count": null,
   "metadata": {},
   "outputs": [],
   "source": []
  },
  {
   "cell_type": "markdown",
   "metadata": {
    "scrolled": false
   },
   "source": [
    "\n",
    "\n",
    "# expect to be easy, because simple model can achieve this,  hidden size 1\n",
    "\n",
    "\n",
    "\n",
    "# visualization and animation\n",
    "\n",
    "# curriculum learning + analyze Loss \n",
    "\n",
    "# finish Repo \n",
    "\n",
    "# OpenAI\n"
   ]
  },
  {
   "cell_type": "markdown",
   "metadata": {},
   "source": [
    "\n"
   ]
  },
  {
   "cell_type": "code",
   "execution_count": null,
   "metadata": {},
   "outputs": [],
   "source": []
  },
  {
   "cell_type": "code",
   "execution_count": null,
   "metadata": {},
   "outputs": [],
   "source": []
  },
  {
   "cell_type": "code",
   "execution_count": null,
   "metadata": {},
   "outputs": [],
   "source": []
  },
  {
   "cell_type": "code",
   "execution_count": null,
   "metadata": {},
   "outputs": [],
   "source": []
  },
  {
   "cell_type": "code",
   "execution_count": null,
   "metadata": {},
   "outputs": [],
   "source": []
  },
  {
   "cell_type": "code",
   "execution_count": null,
   "metadata": {},
   "outputs": [],
   "source": []
  }
 ],
 "metadata": {
  "kernelspec": {
   "display_name": "Python 3",
   "language": "python",
   "name": "python3"
  },
  "language_info": {
   "codemirror_mode": {
    "name": "ipython",
    "version": 3
   },
   "file_extension": ".py",
   "mimetype": "text/x-python",
   "name": "python",
   "nbconvert_exporter": "python",
   "pygments_lexer": "ipython3",
   "version": "3.6.4"
  }
 },
 "nbformat": 4,
 "nbformat_minor": 1
}
