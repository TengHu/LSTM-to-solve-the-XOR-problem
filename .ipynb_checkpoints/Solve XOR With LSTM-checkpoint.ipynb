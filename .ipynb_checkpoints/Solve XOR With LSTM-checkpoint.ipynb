{
 "cells": [
  {
   "cell_type": "markdown",
   "metadata": {},
   "source": [
    "# OpenAI - Request for Research 2.0 (https://blog.openai.com/requests-for-research-2/)\n",
    "\n",
    "## Warmup\n",
    "\n",
    "   Train an LSTM to solve the XOR problem: that is, given a sequence of bits, determine its parity. The LSTM should consume the sequence, one bit at a time, and then output the correct answer at the sequence’s end. Test the two approaches below:\n",
    "\n",
    " *  Generate a dataset of random 100,000 binary strings of length 50. Train the LSTM; what performance do you get?\n",
    "\n",
    " *  Generate a dataset of random 100,000 binary strings, where the length of each string is independently and randomly chosen between 1 and 50. Train the LSTM. Does it succeed? What explains the difference?\n"
   ]
  },
  {
   "cell_type": "code",
   "execution_count": 7,
   "metadata": {},
   "outputs": [
    {
     "data": {
      "text/plain": [
       "<torch._C.Generator at 0x1a170857f0>"
      ]
     },
     "execution_count": 7,
     "metadata": {},
     "output_type": "execute_result"
    }
   ],
   "source": [
    "import torch\n",
    "import torch.nn as nn\n",
    "import torch.nn.functional as F\n",
    "import torch.optim as optim\n",
    "import numpy as np\n",
    "import inspect\n",
    "import torch.utils.data as data_utils\n",
    "import pdb\n",
    "import random\n",
    "from torch.autograd import Variable\n",
    "import matplotlib.pyplot as plt\n",
    "import torch.nn.utils.rnn as rnn_utils\n",
    "torch.manual_seed(0)  "
   ]
  },
  {
   "cell_type": "code",
   "execution_count": null,
   "metadata": {},
   "outputs": [],
   "source": []
  },
  {
   "cell_type": "markdown",
   "metadata": {},
   "source": [
    "## Generating Bits String"
   ]
  },
  {
   "cell_type": "code",
   "execution_count": 57,
   "metadata": {},
   "outputs": [
    {
     "data": {
      "text/plain": [
       "'\\ni, t = generate_binary(length=4, num=20,variable=True)\\nprint (rnn_utils.pad_packed_sequence(i, batch_first=True)[0])\\nprint (rnn_utils.pad_packed_sequence(i, batch_first=True)[1])\\nprint (rnn_utils.pad_packed_sequence(t, batch_first=True)[0])\\nprint (rnn_utils.pad_packed_sequence(t, batch_first=True)[1])\\n'"
      ]
     },
     "execution_count": 57,
     "metadata": {},
     "output_type": "execute_result"
    }
   ],
   "source": [
    "def generate_binary(length=1, num=1):\n",
    "    inputs = []\n",
    "    targets = []\n",
    "    for i in range(0, int(round(num))):\n",
    "        sum = 0\n",
    "        input = []\n",
    "        target = []\n",
    "        for j in range(0, int(round(length))):\n",
    "            temp = random.randint(0, 1)\n",
    "            sum += temp\n",
    "            current_input = np.zeros(2)\n",
    "            current_input[temp] = 1\n",
    "            input.append(current_input)\n",
    "            target.append(sum % 2)\n",
    "        inputs.append(input)\n",
    "        targets.append(target)\n",
    "    inputs = torch.Tensor(inputs)\n",
    "    targets = torch.Tensor(targets).unsqueeze(2)\n",
    "    return inputs, targets\n",
    "    \n",
    "    \n",
    "def collate_generate(batchsize=2, is_variable_length=False):\n",
    "    def pad_collate(batch):\n",
    "        data = [item[0] for item in batch]\n",
    "        target = [item[1] for item in batch]\n",
    "        length = len(data[0])\n",
    "        \n",
    "        lengths_vector = [random.randint(1,length) if is_variable_length else length for i in range(0, batchsize)]\n",
    "        lengths_vector.sort(reverse=True)\n",
    "        \n",
    "        data = rnn_utils.pack_padded_sequence(torch.stack(data), lengths_vector, batch_first=True)\n",
    "        target = rnn_utils.pack_padded_sequence(torch.stack(target), lengths_vector, batch_first=True)\n",
    "        return [data, target]\n",
    "    return pad_collate\n",
    "\n",
    "'''\n",
    "i, t = generate_binary(length=4, num=20,variable=True)\n",
    "print (rnn_utils.pad_packed_sequence(i, batch_first=True)[0])\n",
    "print (rnn_utils.pad_packed_sequence(i, batch_first=True)[1])\n",
    "print (rnn_utils.pad_packed_sequence(t, batch_first=True)[0])\n",
    "print (rnn_utils.pad_packed_sequence(t, batch_first=True)[1])\n",
    "'''"
   ]
  },
  {
   "cell_type": "code",
   "execution_count": null,
   "metadata": {},
   "outputs": [],
   "source": []
  },
  {
   "cell_type": "code",
   "execution_count": null,
   "metadata": {},
   "outputs": [],
   "source": []
  },
  {
   "cell_type": "markdown",
   "metadata": {},
   "source": [
    "# Single Layer LSTM Model"
   ]
  },
  {
   "cell_type": "code",
   "execution_count": 102,
   "metadata": {},
   "outputs": [],
   "source": [
    "class LSTMModel(nn.Module):\n",
    "    def __init__(self, feature_size, hidden_size):\n",
    "        super(LSTMModel, self).__init__()\n",
    "        self.feature_size = feature_size\n",
    "        self.hidden_size = hidden_size\n",
    "        \n",
    "        self.rnn = nn.LSTM(\n",
    "            input_size=feature_size,\n",
    "            hidden_size=hidden_size,\n",
    "            num_layers=1,\n",
    "            batch_first=True)\n",
    "        self.h2o = nn.Linear(hidden_size, 1)\n",
    "        self.sig = nn.Sigmoid()\n",
    "\n",
    "    def unpacked(self, hidden):\n",
    "        if isinstance(hidden, torch.nn.utils.rnn.PackedSequence):\n",
    "            hidden, lengths_vector = rnn_utils.pad_packed_sequence(hidden, batch_first=True)\n",
    "        return hidden\n",
    "        \n",
    "    def forward(self, inputs):\n",
    "        h, h_and_c = self.rnn(inputs)\n",
    "        h = self.unpacked(h)\n",
    "        outputs = self.h2o(h)\n",
    "        return outputs, self.sig(outputs)\n",
    "    \n",
    "    \n",
    "    def forward(self, inputs, hiddens):\n",
    "        h, h_and_c = self.rnn(inputs, hiddens)\n",
    "        h = self.unpacked(h)\n",
    "        outputs = self.h2o(h)\n",
    "        return outputs, self.sig(outputs), h_and_c\n",
    "    \n",
    "\n",
    "    def initRandomHidden(self, batch_size=1):\n",
    "        h = torch.zeros(1, batch_size, self.hidden_size)\n",
    "        c = torch.zeros(1, batch_size, self.hidden_size)\n",
    "        return [h, c]"
   ]
  },
  {
   "cell_type": "markdown",
   "metadata": {},
   "source": [
    "# Training with fixed length 50\n",
    " *  Generate a dataset of random 100,000 binary strings of length 50. Train the LSTM; what performance do you get?\n",
    "\n",
    "\n",
    "* batch size 20\n",
    "* Vanilla SGD with learning rate 1\n",
    "* Cross Entropy Loss\n",
    "* Achieve 100 % with 2 hidden units after ~2 epochs"
   ]
  },
  {
   "cell_type": "code",
   "execution_count": null,
   "metadata": {},
   "outputs": [],
   "source": []
  },
  {
   "cell_type": "code",
   "execution_count": 72,
   "metadata": {
    "scrolled": false
   },
   "outputs": [
    {
     "name": "stdout",
     "output_type": "stream",
     "text": [
      "learning rate 1, batch size 20, training length 50\n",
      "epoch 1, batch 100, loss 0.6938106417655945\n",
      "epoch 1, batch 200, loss 0.6930990815162659\n",
      "epoch 1, batch 300, loss 0.6928948163986206\n",
      "epoch 1, batch 400, loss 0.6928576827049255\n",
      "epoch 1, batch 500, loss 0.6925433874130249\n",
      "epoch 1, batch 600, loss 0.6927056908607483\n",
      "epoch 1, batch 700, loss 0.6927259564399719\n",
      "epoch 1, batch 800, loss 0.6924624443054199\n",
      "epoch 1, batch 900, loss 0.692569375038147\n",
      "epoch 1, batch 1000, loss 0.6926978230476379\n",
      "epoch 1, batch 1100, loss 0.692115068435669\n",
      "epoch 1, batch 1200, loss 0.6918034553527832\n",
      "epoch 1, batch 1300, loss 0.6908844113349915\n",
      "epoch 1, batch 1400, loss 0.6891520023345947\n",
      "epoch 1, batch 1500, loss 0.6855737566947937\n",
      "epoch 1, batch 1600, loss 0.6777828931808472\n",
      "epoch 1, batch 1700, loss 0.6706968545913696\n",
      "epoch 1, batch 1800, loss 0.6637104749679565\n",
      "epoch 1, batch 1900, loss 0.6596167683601379\n",
      "epoch 1, batch 2000, loss 0.6562432646751404\n",
      "epoch 1, batch 2100, loss 0.6906924247741699\n",
      "epoch 1, batch 2200, loss 0.6886283755302429\n",
      "epoch 1, batch 2300, loss 0.6873527765274048\n",
      "epoch 1, batch 2400, loss 0.686805784702301\n",
      "epoch 1, batch 2500, loss 0.6856831908226013\n",
      "epoch 1, batch 2600, loss 0.6834417581558228\n",
      "epoch 1, batch 2700, loss 0.6829550266265869\n",
      "epoch 1, batch 2800, loss 0.680497944355011\n",
      "epoch 1, batch 2900, loss 0.6786754727363586\n",
      "epoch 1, batch 3000, loss 0.6744965314865112\n",
      "epoch 1, batch 3100, loss 0.6683921217918396\n",
      "epoch 1, batch 3200, loss 0.6452889442443848\n",
      "epoch 1, batch 3300, loss 0.6576401591300964\n",
      "epoch 1, batch 3400, loss 0.133708655834198\n",
      "epoch 1, batch 3500, loss 0.023417700082063675\n",
      "epoch 1, batch 3600, loss 0.013074389658868313\n",
      "epoch 1, batch 3700, loss 0.009089264087378979\n",
      "Accuracy: \n",
      "100.0 %\n",
      "epoch 2, batch 100, loss 0.006944069638848305\n",
      "Accuracy: \n",
      "100.0 %\n",
      "epoch 3, batch 100, loss 0.005599937867373228\n",
      "Accuracy: \n",
      "100.0 %\n",
      "epoch 4, batch 100, loss 0.004689222667366266\n",
      "Accuracy: \n",
      "100.0 %\n",
      "epoch 5, batch 100, loss 0.004052783828228712\n",
      "Accuracy: \n",
      "100.0 %\n",
      "epoch 6, batch 100, loss 0.003542967839166522\n",
      "Accuracy: \n",
      "100.0 %\n",
      "epoch 7, batch 100, loss 0.003164597088471055\n",
      "Accuracy: \n",
      "100.0 %\n",
      "epoch 8, batch 100, loss 0.002857268089428544\n",
      "Accuracy: \n",
      "100.0 %\n",
      "#################################################################################################### \n",
      "TestSet Accuracy:\n",
      "100.0 %\n"
     ]
    }
   ],
   "source": [
    "print_every = 100\n",
    "epochs = 8\n",
    "num_observation = 100000\n",
    "num_test_observation = 10000\n",
    "\n",
    "length = 50\n",
    "hidden_size = 2\n",
    "batch_size = 20\n",
    "\n",
    "criterion = nn.BCEWithLogitsLoss()\n",
    "\n",
    "def evaluate(model, num_samples=num_test_observation, is_variable_length=False):\n",
    "    accuracy = 0\n",
    "    evaluate_criterion = nn.BCEWithLogitsLoss(size_average=False)\n",
    "    \n",
    "    inputs, targets = generate_binary(length=length, num=num_samples)\n",
    "    dataset = torch.utils.data.TensorDataset(inputs, targets)\n",
    "    \n",
    "    loss = 0\n",
    "    \n",
    "    dataloader = torch.utils.data.DataLoader(\n",
    "        dataset,\n",
    "        batch_size=batch_size,\n",
    "        shuffle=True,\n",
    "        num_workers=1,\n",
    "        drop_last=True,\n",
    "        collate_fn=collate_generate(batchsize=batch_size, is_variable_length=is_variable_length),\n",
    "        pin_memory=True)\n",
    "\n",
    "    \n",
    "    for batch_idx, data in enumerate(dataloader, 1):\n",
    "        hiddens = model.initRandomHidden(batch_size=batch_size)\n",
    "        input, targets = data\n",
    "        outputs, predicts = model(input, hiddens)\n",
    "\n",
    "        # unpack targets PackedSequence to get  variable length vector\n",
    "        targets, lengths_vector = rnn_utils.pad_packed_sequence(targets, batch_first=True)\n",
    "    \n",
    "        loss += evaluate_criterion(outputs.data, targets.data)\n",
    "    \n",
    "        # we only care the final output of each string which is at index i-1 for i in lengths_vector\n",
    "        for idx_in_batch, idx_in_sequence in enumerate(lengths_vector.tolist(), 0):\n",
    "            #pdb.set_trace()\n",
    "            accuracy += ((predicts[idx_in_batch, idx_in_sequence-1] > 0.5).numpy() ==  targets[idx_in_batch, idx_in_sequence-1].numpy())\n",
    "        \n",
    "    print (accuracy[0] / num_samples * 100, \"%\")\n",
    "    return loss / num_samples\n",
    "\n",
    "'''\n",
    "Training\n",
    "multiple times, average loss per iteration\n",
    "'''\n",
    "lr = 1\n",
    "losses_dict = {}\n",
    "curriculum = [50]  #[2, 5, 12, 25, 50, 100] \n",
    "\n",
    "model = LSTMModel(2, hidden_size)\n",
    "\n",
    "losses = []\n",
    "generalization_losses = []\n",
    "\n",
    "for curr_length in curriculum: \n",
    "    ''' training data '''\n",
    "    inputs, targets = generate_binary(length=curr_length, num=num_observation)\n",
    "    dataset = torch.utils.data.TensorDataset(inputs, targets)\n",
    "    \n",
    "    \n",
    "    ''' training dataloader '''\n",
    "    dataloader = torch.utils.data.DataLoader(\n",
    "                    dataset,\n",
    "                    batch_size=batch_size,\n",
    "                    shuffle=True,\n",
    "                    num_workers=1,\n",
    "                    drop_last=True,\n",
    "                    collate_fn=collate_generate(batchsize=batch_size,  is_variable_length=True),\n",
    "                    pin_memory=True)\n",
    "\n",
    "    print (\"learning rate {}, batch size {}, training length {}\".format(lr, batch_size, curr_length))\n",
    "    optimizer = torch.optim.SGD(model.parameters(), lr=lr)\n",
    "    \n",
    "    for i in range(1, epochs+1):    \n",
    "        running_loss = 0\n",
    "        for batch_idx, data in enumerate(dataloader, 1):\n",
    "            hiddens = model.initRandomHidden(batch_size=batch_size)\n",
    "            \n",
    "            optimizer.zero_grad()\n",
    "            input, targets = data\n",
    "            \n",
    "            outputs, _ = model(input, hiddens)\n",
    "            \n",
    "            # unpack targets PackedSequence to get  variable length vector\n",
    "            _, lengths_vector = rnn_utils.pad_packed_sequence(targets, batch_first=True)\n",
    "    \n",
    "            # use pack_padded_sequence function to flatten output according to variable length vector\n",
    "            outputs = rnn_utils.pack_padded_sequence(outputs, lengths_vector, batch_first=True)\n",
    "    \n",
    "            \n",
    "            loss = criterion(outputs.data, targets.data)\n",
    "            losses.append(loss)\n",
    "            running_loss += loss\n",
    "            \n",
    "            loss.backward()\n",
    "            \n",
    "            # clip gradient\n",
    "            # torch.nn.utils.clip_grad_norm_(model.parameters(), 0.2)\n",
    "            \n",
    "            optimizer.step()\n",
    "            \n",
    "            \n",
    "            if batch_idx % print_every == 0:\n",
    "                print (\"epoch {}, batch {}, loss {}\".format(i, batch_idx, running_loss / print_every))\n",
    "                if running_loss / print_every < 1e-2:\n",
    "                    break\n",
    "                running_loss = 0\n",
    "        print (\"Accuracy: \")\n",
    "        generalization_losses.append(evaluate(model, num_samples=100, is_variable_length=True))\n",
    "        \n",
    "    print ('#' * 100, '\\nTestSet Accuracy:')\n",
    "    evaluate(model, num_samples=num_test_observation, is_variable_length=True)\n",
    "    losses_dict[curr_length] = losses"
   ]
  },
  {
   "cell_type": "markdown",
   "metadata": {},
   "source": [
    "Training the same network on 100000 bits string with length with 2, 5, 12, 25, 50, 100 respectively and test it on 10000 bits string with variable lengths between 1 and 50. \n",
    "Two observations.\n",
    "1. Shorter the string, easier the training. Probably because to get the correct parity, network needs to memorize each bit in the string. Longer dependency is harder to learn due to gradient explosion through bptt.\n",
    "2. Loss stays still then sudden drops to zero.\n"
   ]
  },
  {
   "cell_type": "code",
   "execution_count": 21,
   "metadata": {
    "scrolled": false
   },
   "outputs": [
    {
     "data": {
      "text/plain": [
       "<matplotlib.legend.Legend at 0x119ae57f0>"
      ]
     },
     "execution_count": 21,
     "metadata": {},
     "output_type": "execute_result"
    },
    {
     "data": {
      "image/png": "[encoded data removed]",
      "text/plain": [
       "<matplotlib.figure.Figure at 0x119ae5668>"
      ]
     },
     "metadata": {},
     "output_type": "display_data"
    }
   ],
   "source": [
    "import seaborn as sns\n",
    "sns.set(color_codes=True)\n",
    "fig, ax = plt.subplots(figsize=(20, 10))\n",
    "legends = []\n",
    "for k,v in fixed_losses_dict.items():\n",
    "    plt.plot(v)\n",
    "    legends.append(k)\n",
    "plt.legend(legends)"
   ]
  },
  {
   "cell_type": "code",
   "execution_count": 316,
   "metadata": {},
   "outputs": [],
   "source": [
    "import sty\n",
    "from sty import fg, bg, ef, rs\n",
    "\n",
    "def redness(text, color):\n",
    "    return bg(255, color, color) + text + bg.rs\n",
    "\n",
    "def blueness(text, color):\n",
    "    return bg(color, color, 255) + text + bg.rs\n",
    "\n",
    "def greeness(text, color):\n",
    "    return bg(color, 255, color) + text + bg.rs\n",
    "\n",
    "def norm(array):\n",
    "    max_ = max(array)\n",
    "    min_ = min(array)\n",
    "    return [(e - min_) / (max_ - min_) for e in array]"
   ]
  },
  {
   "cell_type": "code",
   "execution_count": 326,
   "metadata": {},
   "outputs": [],
   "source": [
    "length_ = 10\n",
    "input, target = generate_binary(length=length_, num=1)\n",
    "hiddens = model.initRandomHidden()\n",
    "output, predict = model(input, hiddens)"
   ]
  },
  {
   "cell_type": "code",
   "execution_count": 314,
   "metadata": {},
   "outputs": [],
   "source": []
  },
  {
   "cell_type": "code",
   "execution_count": 328,
   "metadata": {},
   "outputs": [
    {
     "name": "stdout",
     "output_type": "stream",
     "text": [
      "\u001b[48;2;255;88;88m1\u001b[49m\u001b[48;2;255;255;255m1\u001b[49m\u001b[48;2;255;252;252m0\u001b[49m\u001b[48;2;255;103;103m1\u001b[49m\u001b[48;2;255;7;7m0\u001b[49m\u001b[48;2;255;251;251m1\u001b[49m\u001b[48;2;255;93;93m1\u001b[49m\u001b[48;2;255;8;8m0\u001b[49m\u001b[48;2;255;0;0m0\u001b[49m\u001b[48;2;255;249;249m1\u001b[49m\n",
      "\u001b[48;2;255;21;21m1\u001b[49m\u001b[48;2;255;229;229m1\u001b[49m\u001b[48;2;255;255;255m0\u001b[49m\u001b[48;2;255;0;0m1\u001b[49m\u001b[48;2;255;125;125m0\u001b[49m\u001b[48;2;255;232;232m1\u001b[49m\u001b[48;2;255;0;0m1\u001b[49m\u001b[48;2;255;124;124m0\u001b[49m\u001b[48;2;255;137;137m0\u001b[49m\u001b[48;2;255;235;235m1\u001b[49m\n"
     ]
    }
   ],
   "source": [
    "hiddens = model.initRandomHidden()\n",
    "\n",
    "h1array = []\n",
    "h2array = []\n",
    "c1array = []\n",
    "c2array = []\n",
    "\n",
    "h1str = \"\"\n",
    "h2str = \"\"\n",
    "c1str = \"\"\n",
    "c2str = \"\"\n",
    "\n",
    "s = \"\"\n",
    "\n",
    "base = 255\n",
    "for ii in range(1, length_+1):\n",
    "    h, h_and_c = model.rnn(input[:, :ii, :], hiddens)\n",
    "    h1 = h_and_c[0][0, 0, 0].data.numpy()\n",
    "    h2 = h_and_c[0][0, 0, 1].data.numpy()\n",
    "    c1 = h_and_c[1][0, 0, 0].data.numpy()\n",
    "    c2 = h_and_c[1][0, 0, 1].data.numpy()\n",
    "    h1array.append(h1)\n",
    "    h2array.append(h2)\n",
    "    c1array.append(c1)\n",
    "    c2array.append(c2)\n",
    "    \n",
    "    \n",
    "\n",
    "h1array = norm(h1array)\n",
    "h2array = norm(h2array)\n",
    "c1array = norm(c1array)\n",
    "c2array = norm(c2array)\n",
    "for ii in range(1, length_+1):\n",
    "    char = str(int(input[0, ii-1, 1].data.numpy()))\n",
    "    h1str += redness(char, int(h1array[ii-1] * base))\n",
    "    h2str += redness(char, int(h2array[ii-1] * base))\n",
    "    c1str += redness(char, int(c1array[ii-1] * base))\n",
    "    c2str += redness(char, int(c2array[ii-1] * base))\n",
    "\n",
    "print (h1str)\n",
    "print (h2str)\n",
    "print (c1str)\n",
    "print (c2str)"
   ]
  },
  {
   "cell_type": "markdown",
   "metadata": {},
   "source": [
    "# Training with variable length in [1,50]\n",
    "\n",
    "* batch size 20\n",
    "* Vanilla SGD with learning rate 1\n",
    "* Binary Cross Entropy Loss"
   ]
  },
  {
   "cell_type": "markdown",
   "metadata": {},
   "source": [
    "Training the same network on 100000 bits string with length with 50 and test it on 10000 bits string with variable lengths between 1 and 50. \n",
    "Compared to training with fixed size strings, network is easier to learn with variable length strings, probably because short dependency and combination curriculum."
   ]
  },
  {
   "cell_type": "code",
   "execution_count": 75,
   "metadata": {},
   "outputs": [
    {
     "data": {
      "text/plain": [
       "<matplotlib.legend.Legend at 0x1a52db4908>"
      ]
     },
     "execution_count": 75,
     "metadata": {},
     "output_type": "execute_result"
    },
    {
     "data": {
      "image/png": "[encoded data removed]",
      "text/plain": [
       "<matplotlib.figure.Figure at 0x1a52db49e8>"
      ]
     },
     "metadata": {},
     "output_type": "display_data"
    }
   ],
   "source": [
    "import seaborn as sns\n",
    "sns.set(color_codes=True)\n",
    "fig, ax = plt.subplots(figsize=(20, 10))\n",
    "legends = []\n",
    "for k,v in losses_dict.items():\n",
    "    plt.plot(v)\n",
    "    legends.append(k)\n",
    "plt.legend(legends)"
   ]
  },
  {
   "cell_type": "markdown",
   "metadata": {},
   "source": [
    "### todo: \n",
    "1. investigate long dependency learning problems\n",
    "2. curriculum learning for better training loss/generalization error\n",
    "\n"
   ]
  },
  {
   "cell_type": "code",
   "execution_count": 76,
   "metadata": {},
   "outputs": [],
   "source": []
  },
  {
   "cell_type": "code",
   "execution_count": null,
   "metadata": {},
   "outputs": [],
   "source": []
  },
  {
   "cell_type": "code",
   "execution_count": 262,
   "metadata": {},
   "outputs": [],
   "source": []
  }
 ],
 "metadata": {
  "kernelspec": {
   "display_name": "Python 3",
   "language": "python",
   "name": "python3"
  },
  "language_info": {
   "codemirror_mode": {
    "name": "ipython",
    "version": 3
   },
   "file_extension": ".py",
   "mimetype": "text/x-python",
   "name": "python",
   "nbconvert_exporter": "python",
   "pygments_lexer": "ipython3",
   "version": "3.6.4"
  }
 },
 "nbformat": 4,
 "nbformat_minor": 1
}
